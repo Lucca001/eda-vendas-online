# Importando bibliotecas necessárias
import pandas as pd
import numpy as np
import matplotlib.pyplot as plt
import seaborn as sns

# Gerando o dataset fictício
np.random.seed(42)

# Parâmetros para os dados fictícios
num_records = 1000
categories = ['Eletrônicos', 'Roupas', 'Casa', 'Livros', 'Esportes']
products = {
    'Eletrônicos': ['Fone de Ouvido', 'Smartphone', 'Notebook', 'Monitor'],
    'Roupas': ['Camiseta', 'Jeans', 'Jaqueta', 'Tênis'],
    'Casa': ['Sofá', 'Cama', 'Mesa', 'Cadeira'],
    'Livros': ['Ficção', 'História', 'Autoajuda', 'Biografia'],
    'Esportes': ['Bola', 'Bicicleta', 'Roupas Esportivas', 'Tênis Esportivo']
}
cities = ['São Paulo', 'Rio de Janeiro', 'Curitiba', 'Salvador', 'Porto Alegre']
payment_methods = ['Cartão de Crédito', 'Boleto', 'Pix']

# Criando os dados
data = {
    'customer_id': np.random.randint(1000, 2000, num_records),
    'category': np.random.choice(categories, num_records),
    'price': np.random.uniform(10, 1000, num_records).round(2),
    'purchase_date': pd.to_datetime(
        np.random.choice(pd.date_range('2024-01-01', '2024-12-31'), num_records)
    ),
    'location': np.random.choice(cities, num_records),
    'payment_method': np.random.choice(payment_methods, num_records)
}

# Associando produtos às categorias
data['product'] = [np.random.choice(products[cat]) for cat in data['category']]

# Criando o DataFrame
df = pd.DataFrame(data)

# Exibindo os primeiros registros
print("Primeiros 5 registros:")
print(df.head())

# Salvando o dataset em CSV (opcional para subir no GitHub)
df.to_csv('ecommerce_data.csv', index=False)

# --------------------------------
# 1. Análise Exploratória
# --------------------------------

# Resumo estatístico
print("\nResumo estatístico do dataset:")
print(df.describe())

# Distribuição de vendas por categoria
plt.figure(figsize=(10, 6))
sns.countplot(data=df, x='category', order=df['category'].value_counts().index, palette='viridis')
plt.title('Distribuição de Vendas por Categoria')
plt.xlabel('Categoria')
plt.ylabel('Contagem')
plt.xticks(rotation=45)
plt.show()

# Receita total por categoria
category_revenue = df.groupby('category')['price'].sum().sort_values(ascending=False)
plt.figure(figsize=(10, 6))
sns.barplot(x=category_revenue.index, y=category_revenue.values, palette='viridis')
plt.title('Receita Total por Categoria')
plt.xlabel('Categoria')
plt.ylabel('Receita (USD)')
plt.xticks(rotation=45)
plt.show()

# Vendas ao longo do tempo
df['month'] = df['purchase_date'].dt.to_period('M')
monthly_sales = df.groupby('month')['price'].sum()
plt.figure(figsize=(14, 6))
monthly_sales.plot(marker='o', color='orange')
plt.title('Receita Mensal ao Longo do Ano')
plt.xlabel('Mês')
plt.ylabel('Receita (USD)')
plt.grid(True)
plt.show()

# Produtos mais vendidos
top_products = df['product'].value_counts().head(10)
plt.figure(figsize=(10, 6))
sns.barplot(x=top_products.values, y=top_products.index, palette='coolwarm')
plt.title('Top 10 Produtos Mais Vendidos')
plt.xlabel('Quantidade Vendida')
plt.ylabel('Produto')
plt.show()

# Métodos de pagamento mais utilizados
plt.figure(figsize=(10, 6))
sns.countplot(data=df, x='payment_method', order=df['payment_method'].value_counts().index, palette='mako')
plt.title('Distribuição de Métodos de Pagamento')
plt.xlabel('Método de Pagamento')
plt.ylabel('Contagem')
plt.show()

# --------------------------------
# 2. Insights
# --------------------------------

print("\n--- Insights de Negócio ---")
print(f"Receita Total: ${df['price'].sum():,.2f}")
print(f"Ticket Médio: ${df['price'].mean():,.2f}")
print(f"Categoria com maior receita: {category_revenue.idxmax()} (${category_revenue.max():,.2f})")
print(f"Produto mais vendido: {df['product'].value_counts().idxmax()} ({df['product'].value_counts().max()} vendas)")
Adiciona codigo de analise
